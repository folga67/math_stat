{
 "cells": [
  {
   "cell_type": "code",
   "execution_count": 14,
   "metadata": {},
   "outputs": [],
   "source": [
    "import matplotlib.pyplot as plt\n",
    "from sklearn.datasets import make_blobs\n",
    "import random\n",
    "import numpy as np"
   ]
  },
  {
   "cell_type": "code",
   "execution_count": 381,
   "metadata": {},
   "outputs": [],
   "source": [
    "X, y = make_blobs(n_samples=100, random_state=1)"
   ]
  },
  {
   "cell_type": "code",
   "execution_count": 88,
   "metadata": {},
   "outputs": [
    {
     "data": {
      "text/plain": [
       "<matplotlib.collections.PathCollection at 0x25f06cbeee0>"
      ]
     },
     "execution_count": 88,
     "metadata": {},
     "output_type": "execute_result"
    },
    {
     "data": {
      "image/png": "[encoded data removed]",
      "text/plain": [
       "<Figure size 504x504 with 1 Axes>"
      ]
     },
     "metadata": {
      "needs_background": "light"
     },
     "output_type": "display_data"
    }
   ],
   "source": [
    "plt.figure(figsize=(7,7))\n",
    "plt.scatter(X[:, 0], X[:, 1])"
   ]
  },
  {
   "cell_type": "code",
   "execution_count": 384,
   "metadata": {},
   "outputs": [
    {
     "data": {
      "text/plain": [
       "array([[ -0.79415228,   2.10495117],\n",
       "       [ -9.15155186,  -4.81286449],\n",
       "       [-11.44182631,  -4.45781441],\n",
       "       [ -9.76761777,  -3.19133737],\n",
       "       [ -4.53655648,  -8.40186288]])"
      ]
     },
     "execution_count": 384,
     "metadata": {},
     "output_type": "execute_result"
    }
   ],
   "source": [
    "X[0:5]"
   ]
  },
  {
   "cell_type": "code",
   "execution_count": 17,
   "metadata": {},
   "outputs": [],
   "source": [
    "def e_metrics(x1, x2):\n",
    "    \n",
    "    distance = 0\n",
    "    for i in range(len(x1)):\n",
    "        distance += np.square(x1[i] - x2[i])\n",
    "    \n",
    "    return np.sqrt(distance)"
   ]
  },
  {
   "cell_type": "code",
   "execution_count": 390,
   "metadata": {},
   "outputs": [],
   "source": [
    "def kmeans(data, k, max_iterations, min_distance):\n",
    "    # Создадим словарь для классификации\n",
    "    classes = {i: [] for i in range(k)}\n",
    "    \n",
    "    # инициализируем центроиды как первые k элементов датасета\n",
    "    centroids = [data[i] for i in range(k)]\n",
    "    \n",
    "    \n",
    "    distances_list = []\n",
    "    for _ in range(max_iterations):\n",
    "        # классифицируем объекты по центроидам\n",
    "        for x in data:\n",
    "            # определим расстояния от объекта до каждого центроида\n",
    "            distances = [e_metrics(x, centroid) for centroid in centroids]\n",
    "            # отнесем объект к кластеру, до центроида которого наименьшее расстояние\n",
    "            classification = distances.index(min(distances))\n",
    "            classes[classification].append(x)\n",
    "            distances_list.append(distances)\n",
    "            ## print(classes[classification])\n",
    "          \n",
    "        \n",
    "        # сохраним предыдущие центроиды в отдельный список для последующего сравнения сновыми\n",
    "        old_centroids = centroids.copy()\n",
    "        \n",
    "        # пересчитаем центроиды как среднее по кластерам\n",
    "        for classification in classes:\n",
    "            centroids[classification] = np.average(classes[classification], axis=0)\n",
    "            ##print(centroids[classification])\n",
    "        \n",
    "        \n",
    "            \n",
    "        # сравним величину смещения центроидов с минимальной\n",
    "        optimal = True\n",
    "        for centroid in range(len(centroids)):\n",
    "            if np.sum(abs((centroids[centroid] - old_centroids[centroid]) / old_centroids * 100)) > min_distance:\n",
    "                optimal = False\n",
    "                \n",
    "        # если все смещения меньше минимального, останавливаем алгоритм  \n",
    "        if optimal:\n",
    "            break\n",
    "                \n",
    "    return old_centroids, classes"
   ]
  },
  {
   "cell_type": "code",
   "execution_count": 391,
   "metadata": {},
   "outputs": [],
   "source": [
    "def visualize(centroids, classes):\n",
    "    colors = ['r', 'g', 'b']\n",
    "    \n",
    "    plt.figure(figsize=(7,7))\n",
    "    \n",
    "    # нанесем на график центроиды\n",
    "    for centroid in centroids:\n",
    "        plt.scatter(centroid[0], centroid[1], marker='x', s=130, c='black')\n",
    "        \n",
    "    # нанесем объекты раскрашенные по классам\n",
    "    for class_item in classes:\n",
    "        for x in classes[class_item]:\n",
    "            plt.scatter(x[0], x[1], color=colors[class_item])\n",
    "            \n",
    "    plt.show()"
   ]
  },
  {
   "cell_type": "code",
   "execution_count": 392,
   "metadata": {},
   "outputs": [],
   "source": [
    "# определим максимальное количество итераций\n",
    "max_iterations = 1\n",
    "\n",
    "# и минимальное расстояние между центроидами до пересчета и после него, при котором нужно остановить алгоритм\n",
    "min_distance = 1e-4\n",
    "\n",
    "# сразу определим известное нам количество кластеров\n",
    "k = 3"
   ]
  },
  {
   "cell_type": "code",
   "execution_count": 393,
   "metadata": {},
   "outputs": [
    {
     "data": {
      "image/png": "[encoded data removed]",
      "text/plain": [
       "<Figure size 504x504 with 1 Axes>"
      ]
     },
     "metadata": {
      "needs_background": "light"
     },
     "output_type": "display_data"
    }
   ],
   "source": [
    "centroids, clusters = kmeans(X, k, 10, min_distance)\n",
    "\n",
    "visualize(centroids, clusters)"
   ]
  },
  {
   "cell_type": "code",
   "execution_count": 394,
   "metadata": {},
   "outputs": [
    {
     "data": {
      "image/png": "[encoded data removed]",
      "text/plain": [
       "<Figure size 504x504 with 1 Axes>"
      ]
     },
     "metadata": {
      "needs_background": "light"
     },
     "output_type": "display_data"
    }
   ],
   "source": [
    "max_iterations = 3\n",
    "\n",
    "centroids, clusters = kmeans(X, k, max_iterations, min_distance)\n",
    "\n",
    "visualize(centroids, clusters)"
   ]
  },
  {
   "cell_type": "markdown",
   "metadata": {},
   "source": [
    "(*) Написать функцию подсчета метрики качества кластеризации как среднее квадратичное внутриклассовое расстояние и построить график ее зависимости от количества кластеров k (взять от 1 до 10) для выборки данных из этого урока (создать датасет, как в методичке)."
   ]
  },
  {
   "cell_type": "code",
   "execution_count": 395,
   "metadata": {},
   "outputs": [],
   "source": [
    "max_iterations = 10"
   ]
  },
  {
   "cell_type": "code",
   "execution_count": 396,
   "metadata": {},
   "outputs": [],
   "source": [
    "## функция качества кластеризации как среднее квадратичное внутриклассовое расстояние\n",
    "def quality(centroids, clusters):\n",
    "    quality_list = []\n",
    "    dist_list =[]\n",
    "    quality = 0\n",
    "    for i in range(len(clusters)):\n",
    "        for n in range(len(clusters[i])):\n",
    "            distances = e_metrics(clusters[i][n], centroids[i])\n",
    "            dist_list.append(distances)\n",
    "            quality = np.std(dist_list)\n",
    "        quality_list.append(quality)\n",
    "    return (quality_list)"
   ]
  },
  {
   "cell_type": "code",
   "execution_count": 369,
   "metadata": {},
   "outputs": [
    {
     "data": {
      "text/plain": [
       "[0.6103172144829526, 0.8312236233500027, 0.7519068791155843]"
      ]
     },
     "execution_count": 369,
     "metadata": {},
     "output_type": "execute_result"
    }
   ],
   "source": [
    "quality(centroids, clusters)"
   ]
  },
  {
   "cell_type": "code",
   "execution_count": 404,
   "metadata": {},
   "outputs": [
    {
     "ename": "UnboundLocalError",
     "evalue": "local variable 'old_centroids' referenced before assignment",
     "output_type": "error",
     "traceback": [
      "\u001b[1;31m---------------------------------------------------------------------------\u001b[0m",
      "\u001b[1;31mUnboundLocalError\u001b[0m                         Traceback (most recent call last)",
      "\u001b[1;32m<ipython-input-404-2e9f6bb0cadf>\u001b[0m in \u001b[0;36m<module>\u001b[1;34m\u001b[0m\n\u001b[0;32m      3\u001b[0m \u001b[0ml\u001b[0m \u001b[1;33m=\u001b[0m \u001b[1;33m[\u001b[0m\u001b[1;33m]\u001b[0m\u001b[1;33m\u001b[0m\u001b[1;33m\u001b[0m\u001b[0m\n\u001b[0;32m      4\u001b[0m \u001b[1;32mfor\u001b[0m \u001b[0mi\u001b[0m \u001b[1;32min\u001b[0m \u001b[0mrange\u001b[0m\u001b[1;33m(\u001b[0m\u001b[0mmax_iterations\u001b[0m\u001b[1;33m)\u001b[0m\u001b[1;33m:\u001b[0m\u001b[1;33m\u001b[0m\u001b[1;33m\u001b[0m\u001b[0m\n\u001b[1;32m----> 5\u001b[1;33m     \u001b[0mcentroids\u001b[0m\u001b[1;33m,\u001b[0m \u001b[0mclusters\u001b[0m \u001b[1;33m=\u001b[0m \u001b[0mkmeans\u001b[0m\u001b[1;33m(\u001b[0m\u001b[0mX\u001b[0m\u001b[1;33m,\u001b[0m \u001b[0mk\u001b[0m\u001b[1;33m,\u001b[0m \u001b[0mi\u001b[0m\u001b[1;33m,\u001b[0m \u001b[0mmin_distance\u001b[0m\u001b[1;33m)\u001b[0m\u001b[1;33m\u001b[0m\u001b[1;33m\u001b[0m\u001b[0m\n\u001b[0m\u001b[0;32m      6\u001b[0m     \u001b[0ml\u001b[0m \u001b[1;33m=\u001b[0m \u001b[0mquality\u001b[0m\u001b[1;33m(\u001b[0m\u001b[0mcentroids\u001b[0m\u001b[1;33m,\u001b[0m \u001b[0mclusters\u001b[0m\u001b[1;33m)\u001b[0m\u001b[1;33m\u001b[0m\u001b[1;33m\u001b[0m\u001b[0m\n\u001b[0;32m      7\u001b[0m     \u001b[0mtotal_qual_list\u001b[0m\u001b[1;33m.\u001b[0m\u001b[0mappend\u001b[0m\u001b[1;33m(\u001b[0m\u001b[0ml\u001b[0m\u001b[1;33m)\u001b[0m\u001b[1;33m\u001b[0m\u001b[1;33m\u001b[0m\u001b[0m\n",
      "\u001b[1;32m<ipython-input-390-69e11d803bf5>\u001b[0m in \u001b[0;36mkmeans\u001b[1;34m(data, k, max_iterations, min_distance)\u001b[0m\n\u001b[0;32m     40\u001b[0m             \u001b[1;32mbreak\u001b[0m\u001b[1;33m\u001b[0m\u001b[1;33m\u001b[0m\u001b[0m\n\u001b[0;32m     41\u001b[0m \u001b[1;33m\u001b[0m\u001b[0m\n\u001b[1;32m---> 42\u001b[1;33m     \u001b[1;32mreturn\u001b[0m \u001b[0mold_centroids\u001b[0m\u001b[1;33m,\u001b[0m \u001b[0mclasses\u001b[0m\u001b[1;33m\u001b[0m\u001b[1;33m\u001b[0m\u001b[0m\n\u001b[0m",
      "\u001b[1;31mUnboundLocalError\u001b[0m: local variable 'old_centroids' referenced before assignment"
     ]
    }
   ],
   "source": [
    "max_iterations == 20\n",
    "total_qual_list = []\n",
    "l = []\n",
    "for i in range(max_iterations):\n",
    "    centroids, clusters = kmeans(X, k, i, min_distance)\n",
    "    l = quality(centroids, clusters)\n",
    "    total_qual_list.append(l)\n",
    "print(total_qual_list)"
   ]
  },
  {
   "cell_type": "code",
   "execution_count": 405,
   "metadata": {},
   "outputs": [
    {
     "name": "stdout",
     "output_type": "stream",
     "text": [
      "[0.9887058880255087, 0.6103172144829536, 0.6103172144829536, 0.6103172144829536, 0.6103172144829536, 0.6103172144829536, 0.6103172144829535, 0.6103172144829532, 0.610317214482953, 0.6103172144829528, 0.6103172144829527, 0.6103172144829526, 0.6103172144829526, 0.6103172144829526, 0.6103172144829526, 0.6103172144829526] [1.4968750290545396, 1.0047087275080386, 1.0427949048654075, 1.039194568381947, 1.0179114638726778, 0.9915369928191049, 0.967164006112581, 0.9262844222078904, 0.9093285829222737, 0.8942827160336907, 0.8808688915235123, 0.8688502276690733, 0.8580283399690796, 0.8482379774164823, 0.8393414408566224, 0.8312236233500027] [1.5160792396160574, 0.9869407489338563, 0.9687136939615465, 0.9448845209023673, 0.917251552587787, 0.8902570464129782, 0.8671580161222174, 0.8306411991086928, 0.8160699397083355, 0.8033614228613555, 0.7921869037482847, 0.7822877956347521, 0.7734591439075821, 0.7655369907403213, 0.7583889006416857, 0.7519068791155843]\n"
     ]
    }
   ],
   "source": [
    "centr1 = []\n",
    "centr2 = []\n",
    "centr3 = []\n",
    "for i in range(len(total_quality)):\n",
    "    centr1.append(total_quality[i][0])\n",
    "    centr2.append(total_quality[i][1])\n",
    "    centr3.append(total_quality[i][2])\n",
    "print(centr1, centr2, centr3)"
   ]
  },
  {
   "cell_type": "code",
   "execution_count": 406,
   "metadata": {},
   "outputs": [
    {
     "data": {
      "image/png": "[encoded data removed]",
      "text/plain": [
       "<Figure size 1152x576 with 1 Axes>"
      ]
     },
     "metadata": {
      "needs_background": "light"
     },
     "output_type": "display_data"
    }
   ],
   "source": [
    "plt.figure(figsize = (16,8))\n",
    "xlim = (1, 11)\n",
    "ylim = (0, 1)\n",
    "plt.plot(range(1,len(centr1)+1), centr1)\n",
    "plt.plot(range(1,len(centr2)+1), centr2)\n",
    "plt.plot(range(1,len(centr2)+1), centr3)\n",
    "plt.show()"
   ]
  },
  {
   "cell_type": "code",
   "execution_count": null,
   "metadata": {},
   "outputs": [],
   "source": [
    "Почему-то первый кластер не меняется в зависимости от изменений количества итераций, начиная с max_iterations = 2."
   ]
  }
 ],
 "metadata": {
  "kernelspec": {
   "display_name": "Python 3",
   "language": "python",
   "name": "python3"
  },
  "language_info": {
   "codemirror_mode": {
    "name": "ipython",
    "version": 3
   },
   "file_extension": ".py",
   "mimetype": "text/x-python",
   "name": "python",
   "nbconvert_exporter": "python",
   "pygments_lexer": "ipython3",
   "version": "3.8.3"
  }
 },
 "nbformat": 4,
 "nbformat_minor": 4
}
